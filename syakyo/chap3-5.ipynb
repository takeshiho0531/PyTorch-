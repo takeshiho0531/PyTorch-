{
 "cells": [
  {
   "cell_type": "markdown",
   "metadata": {},
   "source": [
    "# Pyramid Poolingモジュールの解説と実装"
   ]
  },
  {
   "cell_type": "code",
   "execution_count": 5,
   "metadata": {},
   "outputs": [],
   "source": [
    "#パッケージのインポート\n",
    "import glob\n",
    "import os.path as osp\n",
    "import random\n",
    "import numpy as np\n",
    "import json\n",
    "from PIL import Image\n",
    "from tqdm import tqdm\n",
    "import pandas as pd\n",
    "import matplotlib.pyplot as plt\n",
    "%matplotlib inline\n",
    "\n",
    "import torch\n",
    "import torch.nn as nn\n",
    "import torch.nn.functional as F\n",
    "import torch.optim as optim\n",
    "import torch.utils.data as data\n",
    "import torchvision\n",
    "from torchvision import models,transforms\n",
    "import cv2 \n",
    "import time"
   ]
  },
  {
   "cell_type": "code",
   "execution_count": 3,
   "metadata": {},
   "outputs": [],
   "source": [
    "class conv2DBatchNormRelu(nn.Module):\n",
    "    def __init__(self,in_channels,out_channels,kernel_size,stride,padding,dilation,bias):\n",
    "        super(conv2DBatchNormRelu,self).__init__()\n",
    "        self.conv=nn.Conv2d(in_channels,out_channels,kernel_size,stride,padding,dilation,bias=bias)\n",
    "        self.batchnorm=nn.BatchNorm2d(out_channels)\n",
    "        self.relu=nn.ReLU(inplace=True)\n",
    "        #inplace設定で、入力を保存せずに出力を計算し、メモリ削減する\n",
    "\n",
    "    def forward(self,x):\n",
    "        x=self.conv(x)\n",
    "        x=self.batchnorm(x)\n",
    "        outputs=self.relu(x)\n",
    "\n",
    "        return outputs"
   ]
  },
  {
   "cell_type": "markdown",
   "metadata": {},
   "source": [
    "## クラスPyramidPoolingの実装"
   ]
  },
  {
   "cell_type": "code",
   "execution_count": 6,
   "metadata": {},
   "outputs": [],
   "source": [
    "class PyramidPooling(nn.Module):\n",
    "    def __init__(self,in_channels,pool_sizes,height,width):\n",
    "        super(PyramidPooling).__init__()\n",
    "\n",
    "        #forwardで使用する画像サイズ\n",
    "        self.height=height\n",
    "        self.width=width\n",
    "\n",
    "        #各畳み込み層の出力チャネル数\n",
    "        out_channels=int(in_channels/len(pool_sizes))\n",
    "\n",
    "        #各畳み込み層を作成\n",
    "        #pool_sizes:[6,3,2,1]\n",
    "        self.avpool_1=nn.AdaptiveAvgPool2d(output_size=pool_sizes[0])\n",
    "        self.cbr_1=conv2DBatchNormRelu(in_channels,out_channels,kernel_size=1,\n",
    "                                    stride=1,padding=0,dilation=1,bias=False)\n",
    "\n",
    "        self.avpool_2=nn.AdaptiveAvgPool2d(output_size=pool_sizes[1])\n",
    "        self.cbr_2=conv2DBatchNormRelu(in_channels,out_channels,kernel_size=1,\n",
    "                                    stride=1,padding=0,dilation=1,bias=False) \n",
    "\n",
    "        self.avpool_3=nn.AdaptiveAvgPool2d(output_size=pool_sizes[2])\n",
    "        self.cbr_3=conv2DBatchNormRelu(in_channels,out_channels,kernel_size=1,\n",
    "                                    stride=1,padding=0,dilation=1,bias=False)  \n",
    "\n",
    "        self.avpool_4=nn.AdaptiveAvgPool2d(output_size=pool_sizes[3])\n",
    "        self.cbr_4=conv2DBatchNormRelu(in_channels,out_channels,kernel_size=1,\n",
    "                                    stride=1,padding=0,dilation=1,bias=False)   \n",
    "\n",
    "\n",
    "    def  forward(self,x):\n",
    "        \n",
    "        out1=self.cbr_1(self.avpool_1(x))\n",
    "        out1=F.interpolate(out1, size=(\n",
    "            self.height,self.width),mode=\"bilinear\",align_corners=True)\n",
    "\n",
    "        out2=self.cbr_2(self.avpool_2(x))\n",
    "        out1=F.interpolate(out2, size=(\n",
    "            self.height,self.width),mode=\"bilinear\",align_corners=True)\n",
    "\n",
    "        out3=self.cbr_3(self.avpool_3(x))\n",
    "        out3=F.interpolate(out3, size=(\n",
    "            self.height,self.width),mode=\"bilinear\",align_corners=True)\n",
    "\n",
    "        out4=self.cbr_4(self.avpool_4(x))\n",
    "        out4=F.interpolate(out1, size=(\n",
    "            self.height,self.width),mode=\"bilinear\",align_corners=True)\n",
    "\n",
    "        #最終的に結合させる、dim=1でチャンネル数の次元で結合\n",
    "        output=torch.cat([x,out1,out2,out3,out4],dim=1)\n",
    "\n",
    "        return output\n",
    "\n",
    "\n",
    "        "
   ]
  }
 ],
 "metadata": {
  "kernelspec": {
   "display_name": "Python 3.7.3 ('pytorchenv')",
   "language": "python",
   "name": "python3"
  },
  "language_info": {
   "codemirror_mode": {
    "name": "ipython",
    "version": 3
   },
   "file_extension": ".py",
   "mimetype": "text/x-python",
   "name": "python",
   "nbconvert_exporter": "python",
   "pygments_lexer": "ipython3",
   "version": "3.7.3"
  },
  "orig_nbformat": 4,
  "vscode": {
   "interpreter": {
    "hash": "8eafc1c3d0ba1f317c23d0e9aa4360a9d8a5b5ceacbb507f9d0793fa2c9bc9e9"
   }
  }
 },
 "nbformat": 4,
 "nbformat_minor": 2
}
