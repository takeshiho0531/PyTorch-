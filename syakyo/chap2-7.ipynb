{
 "cells": [
  {
   "cell_type": "code",
   "execution_count": 19,
   "metadata": {},
   "outputs": [],
   "source": [
    "#パッケージのインポート\n",
    "import glob\n",
    "import os.path as osp\n",
    "import random\n",
    "import numpy as np\n",
    "import json\n",
    "from PIL import Image\n",
    "from tqdm import tqdm\n",
    "import pandas as pd\n",
    "import matplotlib.pyplot as plt\n",
    "%matplotlib inline\n",
    "\n",
    "import torch\n",
    "import torch.nn as nn\n",
    "import torch.optim as optim\n",
    "import torch.utils.data as data\n",
    "import torchvision\n",
    "from torchvision import models,transforms\n",
    "import cv2 \n",
    "import time"
   ]
  },
  {
   "cell_type": "markdown",
   "metadata": {},
   "source": [
    "## DataLoaderの作成"
   ]
  },
  {
   "cell_type": "code",
   "execution_count": 6,
   "metadata": {},
   "outputs": [],
   "source": [
    "from utils.ssd_model import make_datapath_list,VOCDataset,DataTransform,Anno_xml2list,od_collate_fn"
   ]
  },
  {
   "cell_type": "code",
   "execution_count": 9,
   "metadata": {},
   "outputs": [],
   "source": [
    "#ファイルパスのリストを取得\n",
    "rootpath=\"../2_objectdetection/data/VOCdevkit/VOC2012/\"\n",
    "train_img_list, train_anno_list,val_img_list,val_anno_list=make_datapath_list(rootpath)"
   ]
  },
  {
   "cell_type": "code",
   "execution_count": 10,
   "metadata": {},
   "outputs": [],
   "source": [
    "#Datasetを作成\n",
    "voc_classes=[\"aeroplane\",\"bicycle\",\"bird\",\"boat\",\"bottle\",\"bus\",\"car\",\"cat\",\"chair\",\n",
    "\"cow\",\"dinigtable\",\"dog\",\"horse\",\"motorbike\",\"person\",\"pottedplant\",\"sheep\",\"sofa\",\"train\",\"tvmonitor\"]\n",
    "\n",
    "color_mean=(104,117,123) #(BGR)の色の平均値\n",
    "\n",
    "input_size=300 #画像のinputサイズを300*300にする"
   ]
  },
  {
   "cell_type": "code",
   "execution_count": 12,
   "metadata": {},
   "outputs": [],
   "source": [
    "train_dataset=VOCDataset(train_img_list,train_anno_list,phase=\"train\",\n",
    "transform=DataTransform(input_size,color_mean), transform_anno=Anno_xml2list(voc_classes))\n",
    "\n",
    "val_dataset=VOCDataset(val_img_list,val_anno_list,phase=\"val\",\n",
    "transform=DataTransform(input_size,color_mean),transform_anno=Anno_xml2list(voc_classes))"
   ]
  },
  {
   "cell_type": "code",
   "execution_count": 13,
   "metadata": {},
   "outputs": [],
   "source": [
    "#DataLoaderを作成する\n",
    "batch_size=32\n",
    "\n",
    "train_dataloader=data.DataLoader(train_dataset,batch_size=batch_size,shuffle=True,collate_fn=od_collate_fn)\n",
    "val_dataloader=data.DataLoader(val_dataset,batch_size=batch_size,shuffle=True,collate_fn=od_collate_fn)\n",
    "\n",
    "#辞書オブジェクトにまとめる\n",
    "dataloaders_dict={\"train\":train_dataloader,\"val\":val_dataloader}"
   ]
  },
  {
   "cell_type": "code",
   "execution_count": 14,
   "metadata": {},
   "outputs": [
    {
     "data": {
      "text/plain": [
       "<torch.utils.data.dataloader.DataLoader at 0x7feed9b48080>"
      ]
     },
     "execution_count": 14,
     "metadata": {},
     "output_type": "execute_result"
    }
   ],
   "source": [
    "train_dataloader"
   ]
  },
  {
   "cell_type": "markdown",
   "metadata": {},
   "source": [
    "## ネットワークモデルの作成"
   ]
  },
  {
   "cell_type": "code",
   "execution_count": 15,
   "metadata": {},
   "outputs": [],
   "source": [
    "from utils.ssd_model import SSD"
   ]
  },
  {
   "cell_type": "code",
   "execution_count": 17,
   "metadata": {},
   "outputs": [],
   "source": [
    "#SSD300の設定\n",
    "ssd_cfg={\n",
    "    \"num_classes\":21, #背景クラスを含めた合計クラス数\n",
    "    \"input_size\":300, #画像入力クラス\n",
    "    \"bbox_aspect_num\":[4,6,6,6,4,4], #出力するDBoxのアスペクト比の種類\n",
    "    \"feature_maps\":[38,19,10,5,3,1], #各sourceの画像サイズ\n",
    "    \"steps\":[8,16,32,64,100,300], #DBoxの大きさを決める\n",
    "    \"min_sizes\":[30,60,111,162,213,264], #DBoxの大きさを決める\n",
    "    \"max_sizes\":[60,111,162,213,264,315], #DBoxの大きさを決める\n",
    "    \"aspect_ratios\":[[2],[2,3],[2,3],[2,3],[2],[2]],\n",
    "}\n",
    "\n",
    "#SSDネットワークモデル\n",
    "net=SSD(phase=\"train\",cfg=ssd_cfg)"
   ]
  },
  {
   "cell_type": "code",
   "execution_count": null,
   "metadata": {},
   "outputs": [],
   "source": [
    "#SSDの初期の重みに設定\n",
    "#ssdのvgg部分に重みをロードする\n",
    "vgg_weights=torch.load(\"../2_objectdetection/weights/vgg16_reducedfc.pth\")\n",
    "net.vgg.load_state_dict(vgg_weights)\n",
    "\n",
    "#ssdの他のネットワークの重みはHeの初期値で初期化\n",
    "def weights_init(m):\n",
    "    if isinstance(m,nn.Conv2d):\n",
    "        init.kaiming_normal_(m.weight.data)\n",
    "        if m.bias is not None:\n",
    "            nn.init.constant_(m.bias,0.0)\n",
    "\n",
    "#Heの初期値を適用\n",
    "net.extras.apply(weights_init)\n",
    "net.loc.apply(weights_init)\n",
    "net.conf.apply(weights_init)"
   ]
  },
  {
   "cell_type": "code",
   "execution_count": null,
   "metadata": {},
   "outputs": [],
   "source": [
    "#GPUが使えるか確認\n",
    "device=torch.device(\"cuda:0\" if torch.cuda.is_available() else \"cpu\")\n",
    "print(\"使用デバイス：\",device)\n",
    "\n",
    "print(\"ネットワーク設定完了：学習済みの重みをロードしました\")"
   ]
  },
  {
   "cell_type": "markdown",
   "metadata": {},
   "source": [
    "## 損失関数と最適化手法の設定"
   ]
  },
  {
   "cell_type": "code",
   "execution_count": null,
   "metadata": {},
   "outputs": [],
   "source": [
    "from utils.ssd_model import MultiBoxLoss\n",
    "\n",
    "#損失関数の設定\n",
    "criterion=MultiBoxLoss(jaccard_thresh=0.5,neg_pos=0.3,device=device)\n",
    "\n",
    "#最適化手法の設定\n",
    "optimizer=optim.SGD(net.parameters(),lr=1e-3,momentum=0.9,weight_decay=5e-4)"
   ]
  },
  {
   "cell_type": "markdown",
   "metadata": {},
   "source": [
    "## 学習と検証の実施"
   ]
  },
  {
   "cell_type": "code",
   "execution_count": null,
   "metadata": {},
   "outputs": [],
   "source": [
    "#モデルを学習させる関数を作成\n",
    "def train_model(net,dataloaders_dict,criterion,optimizer,num_epochs):\n",
    "    #GPUが使えるか確認\n",
    "    device=torch.device(\"cuda:0\" if torch.cuda.is_available() else \"cpu\")\n",
    "    print(\"使用デバイス：\",device)\n",
    "\n",
    "    #ネットワークをGPUへ\n",
    "    net.to(device)\n",
    "\n",
    "    #ネットワークがある程度固定であれば、高速化させる\n",
    "    torch.backends.cudnn.benchmark=True\n",
    "\n",
    "\n",
    "    #イテレーションカウンタをセット\n",
    "    iteration=1\n",
    "    epoch_train_loss=0.0 #epochの損失和\n",
    "    epoch_val_loss=0.0 #epochの損失和\n",
    "    logs=[]\n",
    "\n",
    "    #epochのループ\n",
    "    for epoch in range(num_epochs+1):\n",
    "\n",
    "        #開始時刻を保存\n",
    "        t_epoch_strat=time.time()\n",
    "        t_iter_start=time.time()\n",
    "\n",
    "        print(\"------------------\")\n",
    "        print(\"Epoch {}/{}\".format(epoch+1, num_epochs))\n",
    "        print(\"------------------\")\n",
    "\n",
    "        #epochごとに訓練と検証のループ\n",
    "        for phase in [\"train\",\"val\"]:\n",
    "            if phase==\"train\":\n",
    "                net.train() #モデルを訓練モードに\n",
    "                print(\"(train)\")\n",
    "            else:\n",
    "                if ((epoch+1)%10 ==0):\n",
    "                    net.eval() #モデルを検証モードに\n",
    "                    print(\"------------------\")\n",
    "                    print(\"(val)\")\n",
    "                else:\n",
    "                    #検証は10回に1回だけ行う\n",
    "                    continue\n",
    "\n",
    "            #データローダーからminibatchずつ取り出すループ\n",
    "            for images,targets in dataloaders_dict[phase]:\n",
    "\n",
    "                #GPUが使えるならGPUにデータを送る\n",
    "                images=images.to(device)\n",
    "                targets=[ann.to(device) for ann in targets] #リストの各要素をテンソルへ\n",
    "\n",
    "                #optimizerを初期化\n",
    "                optimizer.zero_grad()\n",
    "\n",
    "                #順伝搬(forward)計算\n",
    "                with torch.set_grad_enabled(phase==\"train\"):\n",
    "                    outputs=net(images)\n",
    "\n",
    "                    #損失の計算\n",
    "                    loss_l,loss_c=criterion(outputs,targets)\n",
    "                    loss=loss_l+loss_c\n",
    "\n",
    "                    #訓練時はバックプロパゲーション\n",
    "                    if phase==\"train\":\n",
    "                        loss.backward() #勾配の計算\n",
    "\n",
    "                        #勾配が大きくなりすぎると計算が不安定になるので、clipで最大でも勾配2.0に留める\n",
    "                        nn.utils.clip_grad_value_(net.parameters(),clip_value=2)\n",
    "\n",
    "                        optimizer.step() #パラメータ更新\n",
    "\n",
    "                        if (iteration%10==0): #10iterに1度、lossを表示\n",
    "                            t_iter_finish=time.time()\n",
    "                            duration=t_iter_finish-t_iter_start\n",
    "                            print(\"イテレーション{} || Loss: {:.4f} || 10 iter: {:.4f} sec.\".format(\n",
    "                                iteration.loss.item(),duration))\n",
    "                            t_iter_start=time.time()\n",
    "\n",
    "                        epoch_train_loss+=loss.item()\n",
    "                        iteration+=1\n",
    "                    \n",
    "                    #検証時\n",
    "                    else:\n",
    "                        epoch_val_loss+=loss.item()\n",
    "\n",
    "        #epochのphaseごとのloss\n",
    "        t_epoch_finish=time.time()\n",
    "        print(\"------------------\")\n",
    "        print(\"epoch{} || Epoch_TRAIN_Loss:{:.4f} || Epoch_VAL_Loss:{:.4f}\".format(\n",
    "            epoch+1,epoch_train_loss,epoch_val_loss))\n",
    "        print(\"timer:{:.4f}sec. \".format(t_epoch_finish-t_epoch_strat))\n",
    "        t_epoch_strat=time.time()\n",
    "\n",
    "        #ログを保存\n",
    "        log_epoch={\"epoch\":epoch+1,\"train_loss\":epoch_train_loss,\"val_loss\":epoch_val_loss}\n",
    "        logs.append(log_epoch)\n",
    "        df=pd.DataFrame(logs)\n",
    "        df.to_csv(\"log_output.csv\")\n",
    "\n",
    "        epoch_train_loss=0.0 #epochの損失和\n",
    "        epoch_val_loss=0.0 #epochの損失和\n",
    "\n",
    "        #ネットワークを保存する\n",
    "        if ((epoch+1)%10==0):\n",
    "            torch.save(net.state_dict(),\"weights/ssd300_\"+str(epoch+1)+\".pth\")\n",
    "        "
   ]
  },
  {
   "cell_type": "code",
   "execution_count": null,
   "metadata": {},
   "outputs": [],
   "source": [
    "#学習・検査をする\n",
    "num_epochs=50\n",
    "train_model(net,dataloaders_dict,criterion,optimizer,num_epochs=num_epochs)"
   ]
  }
 ],
 "metadata": {
  "kernelspec": {
   "display_name": "Python 3.7.3 ('pytorchenv')",
   "language": "python",
   "name": "python3"
  },
  "language_info": {
   "codemirror_mode": {
    "name": "ipython",
    "version": 3
   },
   "file_extension": ".py",
   "mimetype": "text/x-python",
   "name": "python",
   "nbconvert_exporter": "python",
   "pygments_lexer": "ipython3",
   "version": "3.7.3"
  },
  "orig_nbformat": 4,
  "vscode": {
   "interpreter": {
    "hash": "8eafc1c3d0ba1f317c23d0e9aa4360a9d8a5b5ceacbb507f9d0793fa2c9bc9e9"
   }
  }
 },
 "nbformat": 4,
 "nbformat_minor": 2
}
