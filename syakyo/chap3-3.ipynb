{
 "cells": [
  {
   "cell_type": "markdown",
   "metadata": {},
   "source": [
    "## PSPNetのネットワーク構成と実装"
   ]
  },
  {
   "cell_type": "code",
   "execution_count": 1,
   "metadata": {},
   "outputs": [],
   "source": [
    "#パッケージのインポート\n",
    "import glob\n",
    "import os.path as osp\n",
    "import random\n",
    "import numpy as np\n",
    "import json\n",
    "from PIL import Image\n",
    "from tqdm import tqdm\n",
    "import pandas as pd\n",
    "import matplotlib.pyplot as plt\n",
    "%matplotlib inline\n",
    "\n",
    "import torch\n",
    "import torch.nn as nn\n",
    "import torch.optim as optim\n",
    "import torch.utils.data as data\n",
    "import torchvision\n",
    "from torchvision import models,transforms\n",
    "import cv2 \n",
    "import time"
   ]
  },
  {
   "cell_type": "code",
   "execution_count": null,
   "metadata": {},
   "outputs": [],
   "source": [
    "class PSPNet(nn.Module):\n",
    "    def __init__(self,n_classes):\n",
    "        super(PSPNet,self).__init__()\n",
    "\n",
    "        #パラメータ設定\n",
    "        block_config=[3,4,6,3] #resnet50\n",
    "        img_size=475\n",
    "        img_size_8=60 #img_sizeの1/8に\n",
    "\n",
    "        #4つのモジュールを構成するサブネットワークを用意\n",
    "        self.feature_conv=FeatureMap_convolution() #あとで作るよー\n",
    "        self.feature_res_1=ResidualBlockPSP(n_blocks=block_config[0],in_channels=128, \n",
    "                                mid_channerls=64,out_channels=256, stride=1,dilation=1)\n",
    "        self.feature_res_2=ResidualBlockPSP(n_blocks=block_config[1],in_channels=256, \n",
    "                                mid_channerls=128,out_channels=512, stride=2,dilation=1)\n",
    "        self.feature_dislated_res_1=ResidualBlockPSP(n_blocks=block_config[2],in_channels=512, \n",
    "                                mid_channerls=256,out_channels=1024, stride=1,dilation=2)\n",
    "        self.feature_dislated_res_2=ResidualBlockPSP(n_block=block_config[3],in_channels=1024, \n",
    "                                mid_channerls=512,out_channels=2048, stride=1,dilation=4)\n",
    "\n",
    "        self.pyramid_pooling=PyramidPooling(in_channels=2048,pool_sizes=[6,3,2,1],height=img_size_8,width=img_size_8)\n",
    "\n",
    "        self.decode_feature=DecodePSPFeature(height=img_size,width=img_size,n_classes=n_classes)\n",
    "\n",
    "        self.aux=AuxiliaryPSPlayers(in_channels=1024,height=img_size,width=img_size,n_classes=n_classes)\n",
    "\n",
    "    def forward(self,x):\n",
    "        x=self.feature_conv(x)\n",
    "        x=self.feature_res_1(x)\n",
    "        x=self.feature_res_2(x)\n",
    "        x=self.feature_dislated_res_1(x)\n",
    "\n",
    "        output_aux=self.aux(x)\n",
    "\n",
    "        x=self.feature_dislated_res_2(x)\n",
    "\n",
    "        x-self.pyramid_pooling(x)\n",
    "        \n",
    "        output=self.decode_feature(x)\n",
    "\n",
    "        return (output, output_aux)\n",
    "\n"
   ]
  }
 ],
 "metadata": {
  "kernelspec": {
   "display_name": "Python 3.7.3 ('pytorchenv')",
   "language": "python",
   "name": "python3"
  },
  "language_info": {
   "codemirror_mode": {
    "name": "ipython",
    "version": 3
   },
   "file_extension": ".py",
   "mimetype": "text/x-python",
   "name": "python",
   "nbconvert_exporter": "python",
   "pygments_lexer": "ipython3",
   "version": "3.7.3"
  },
  "orig_nbformat": 4,
  "vscode": {
   "interpreter": {
    "hash": "8eafc1c3d0ba1f317c23d0e9aa4360a9d8a5b5ceacbb507f9d0793fa2c9bc9e9"
   }
  }
 },
 "nbformat": 4,
 "nbformat_minor": 2
}
