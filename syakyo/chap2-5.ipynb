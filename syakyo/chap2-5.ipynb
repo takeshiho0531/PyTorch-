{
 "cells": [
  {
   "cell_type": "markdown",
   "metadata": {},
   "source": [
    "# 順伝搬の実装"
   ]
  },
  {
   "cell_type": "code",
   "execution_count": 1,
   "metadata": {},
   "outputs": [],
   "source": [
    "#パッケージのインポート\n",
    "import glob\n",
    "import os.path as osp\n",
    "import random\n",
    "import numpy as np\n",
    "import json\n",
    "from PIL import Image\n",
    "from tqdm import tqdm\n",
    "import pandas as pd\n",
    "import matplotlib.pyplot as plt\n",
    "%matplotlib inline\n",
    "\n",
    "import torch\n",
    "import torch.nn as nn\n",
    "import torch.optim as optim\n",
    "import torch.utils.data as data\n",
    "import torchvision\n",
    "from torchvision import models,transforms\n",
    "import cv2 \n",
    "import torch.nn.init as init"
   ]
  },
  {
   "cell_type": "code",
   "execution_count": null,
   "metadata": {},
   "outputs": [],
   "source": [
    "#オフセット情報を使い、DBoxをBBoxに変換する関数\n",
    "def decode(loc,dbox_list):\n",
    "    \"\"\" \n",
    "    オフセット情報を使い、DBoxをBBoxに変換する。\n",
    "\n",
    "    Parameteres\n",
    "    ------------\n",
    "    loc:[8732,4]\n",
    "       SSDモデルで推論するオフセット情報\n",
    "    dbox_list:[8732,4]\n",
    "       DBoxの情報\n",
    "\n",
    "    Returns\n",
    "    ------------\n",
    "    boxes:[xmin,ymin,xmax,ymax]\n",
    "       BBoxの情報\n",
    "    \"\"\"\n",
    "\n",
    "    #DBoxは[cx,cy,width,height]で格納されている\n",
    "    #locも[△cx,△cy,△width,△height]で格納されている\n",
    "\n",
    "    #オフセット情報からBBoxを求める\n",
    "    boxes=torch.cat((\n",
    "        dbox_list[:,:2]+loc[:,:2]*0.1*dbox_list[:,2:],\n",
    "        dbox_list[:,:2]*torch.exp(loc[:,2:]*0.2)),dim=1)\n",
    "    #boxesのサイズはtorch.Size([8732,4])となる\n",
    "\n",
    "    #BBoxの座標情報を[cx,cy,width,height]から[xmin,ymin,xmax,ymax]に\n",
    "    boxes[:,:2]-=boxes[:,2:]/2 #座標(xmin,ymin)へ変換\n",
    "    boxes[:,2:]+=boxes[:,:2] #座標(xmax,ymax)へ変換"
   ]
  },
  {
   "cell_type": "markdown",
   "metadata": {},
   "source": [
    "落書き開始"
   ]
  },
  {
   "cell_type": "code",
   "execution_count": 5,
   "metadata": {},
   "outputs": [
    {
     "data": {
      "text/plain": [
       "[tensor([[[-1.9924, -1.4571,  1.9735, -1.7305],\n",
       "          [-1.4095,  0.4831,  0.6141, -1.0908],\n",
       "          [ 1.3705, -0.4801,  0.0690,  0.8157]],\n",
       " \n",
       "         [[-0.7145,  0.3737, -1.5077,  0.4178],\n",
       "          [ 1.1349, -0.7082, -1.7310,  1.1911],\n",
       "          [-1.4792, -0.5068,  1.5778,  0.7412]]]),\n",
       " tensor([[[-0.6165, -0.0142,  1.8006,  0.1723],\n",
       "          [-0.1902, -0.2429,  0.3403, -0.3164],\n",
       "          [ 0.1662, -0.0253, -0.0240,  0.3469]],\n",
       " \n",
       "         [[-0.8588, -0.2077, -0.9160, -0.4949],\n",
       "          [ 0.8555,  0.2658, -1.0679, -1.2622],\n",
       "          [ 0.0213,  1.2953,  0.6868,  0.3789]]])]"
      ]
     },
     "execution_count": 5,
     "metadata": {},
     "output_type": "execute_result"
    }
   ],
   "source": [
    "input1 = torch.randn(2, 3, 4)\n",
    "input2 = torch.randn(2, 3, 4)\n",
    "\n",
    "input_list = [input1, input2]\n",
    "input_list"
   ]
  },
  {
   "cell_type": "code",
   "execution_count": 6,
   "metadata": {},
   "outputs": [
    {
     "data": {
      "text/plain": [
       "tensor([[[-1.9924, -1.4571,  1.9735, -1.7305],\n",
       "         [-1.4095,  0.4831,  0.6141, -1.0908],\n",
       "         [ 1.3705, -0.4801,  0.0690,  0.8157],\n",
       "         [-0.6165, -0.0142,  1.8006,  0.1723],\n",
       "         [-0.1902, -0.2429,  0.3403, -0.3164],\n",
       "         [ 0.1662, -0.0253, -0.0240,  0.3469]],\n",
       "\n",
       "        [[-0.7145,  0.3737, -1.5077,  0.4178],\n",
       "         [ 1.1349, -0.7082, -1.7310,  1.1911],\n",
       "         [-1.4792, -0.5068,  1.5778,  0.7412],\n",
       "         [-0.8588, -0.2077, -0.9160, -0.4949],\n",
       "         [ 0.8555,  0.2658, -1.0679, -1.2622],\n",
       "         [ 0.0213,  1.2953,  0.6868,  0.3789]]])"
      ]
     },
     "execution_count": 6,
     "metadata": {},
     "output_type": "execute_result"
    }
   ],
   "source": [
    "torch.cat((input1,input2),dim=1)\n"
   ]
  },
  {
   "cell_type": "code",
   "execution_count": 7,
   "metadata": {},
   "outputs": [
    {
     "data": {
      "text/plain": [
       "[tensor([[ 2.0333,  1.4100,  0.7338],\n",
       "         [ 1.0435, -0.5074,  1.5584]]),\n",
       " tensor([[-1.3124, -0.0292, -0.3548],\n",
       "         [-0.8827, -0.9851, -1.6132]])]"
      ]
     },
     "execution_count": 7,
     "metadata": {},
     "output_type": "execute_result"
    }
   ],
   "source": [
    "input1 = torch.randn(2, 3)\n",
    "input2 = torch.randn(2, 3)\n",
    "\n",
    "input_list = [input1, input2]\n",
    "input_list"
   ]
  },
  {
   "cell_type": "code",
   "execution_count": 8,
   "metadata": {},
   "outputs": [
    {
     "data": {
      "text/plain": [
       "tensor([[ 2.0333,  1.4100,  0.7338, -1.3124, -0.0292, -0.3548],\n",
       "        [ 1.0435, -0.5074,  1.5584, -0.8827, -0.9851, -1.6132]])"
      ]
     },
     "execution_count": 8,
     "metadata": {},
     "output_type": "execute_result"
    }
   ],
   "source": [
    "torch.cat((input1,input2),dim=1)\n"
   ]
  },
  {
   "cell_type": "markdown",
   "metadata": {},
   "source": [
    "落書き終わり"
   ]
  },
  {
   "cell_type": "markdown",
   "metadata": {},
   "source": [
    "## Non-Maximum Suppressionを行う関数を実装"
   ]
  },
  {
   "cell_type": "code",
   "execution_count": null,
   "metadata": {},
   "outputs": [],
   "source": []
  }
 ],
 "metadata": {
  "kernelspec": {
   "display_name": "Python 3.7.3 ('pytorchenv')",
   "language": "python",
   "name": "python3"
  },
  "language_info": {
   "codemirror_mode": {
    "name": "ipython",
    "version": 3
   },
   "file_extension": ".py",
   "mimetype": "text/x-python",
   "name": "python",
   "nbconvert_exporter": "python",
   "pygments_lexer": "ipython3",
   "version": "3.7.3"
  },
  "orig_nbformat": 4,
  "vscode": {
   "interpreter": {
    "hash": "8eafc1c3d0ba1f317c23d0e9aa4360a9d8a5b5ceacbb507f9d0793fa2c9bc9e9"
   }
  }
 },
 "nbformat": 4,
 "nbformat_minor": 2
}
