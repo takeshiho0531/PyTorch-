{
 "cells": [
  {
   "cell_type": "markdown",
   "metadata": {},
   "source": [
    "# DatasetとDataLoaderの実装"
   ]
  },
  {
   "cell_type": "markdown",
   "metadata": {},
   "source": [
    "## 画像データ、アノテーションデータへのファイルパスのリストを作成"
   ]
  },
  {
   "cell_type": "code",
   "execution_count": null,
   "metadata": {},
   "outputs": [],
   "source": [
    "def maek_datapath_list(rootpath):\n",
    "    \"\"\" \n",
    "    学習、検証の画像データとアノテーションデータへのファイルパスリストを作成する\n",
    "\n",
    "    Parameters\n",
    "    --------------\n",
    "    rootpath: str\n",
    "       データフォルダへのパス\n",
    "\n",
    "    Returns\n",
    "    --------------\n",
    "    ret: train_img_list, train_anno_list, val_img_list, val_anno_list\n",
    "       データへのパスを格納したリスト\n",
    "    \"\"\""
   ]
  }
 ],
 "metadata": {
  "kernelspec": {
   "display_name": "Python 3.7.3 ('pytorchenv')",
   "language": "python",
   "name": "python3"
  },
  "language_info": {
   "name": "python",
   "version": "3.7.3"
  },
  "orig_nbformat": 4,
  "vscode": {
   "interpreter": {
    "hash": "8eafc1c3d0ba1f317c23d0e9aa4360a9d8a5b5ceacbb507f9d0793fa2c9bc9e9"
   }
  }
 },
 "nbformat": 4,
 "nbformat_minor": 2
}
