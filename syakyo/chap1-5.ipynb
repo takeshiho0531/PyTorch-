{
 "cells": [
  {
   "cell_type": "markdown",
   "metadata": {},
   "source": [
    "# ファインチューニングの実装"
   ]
  },
  {
   "cell_type": "markdown",
   "metadata": {},
   "source": [
    "## DatasetとDataLoaderを作成"
   ]
  },
  {
   "cell_type": "code",
   "execution_count": 1,
   "metadata": {},
   "outputs": [],
   "source": [
    "#パッケージのインポート\n",
    "import glob\n",
    "import os.path as osp\n",
    "import random\n",
    "import numpy as np\n",
    "import json\n",
    "from PIL import Image\n",
    "from tqdm import tqdm\n",
    "import matplotlib.pyplot as plt\n",
    "%matplotlib inline\n",
    "\n",
    "import torch\n",
    "import torch.nn as nn\n",
    "import torch.optim as optim\n",
    "import torch.utils.data as data\n",
    "import torchvision\n",
    "from torchvision import models,transforms"
   ]
  },
  {
   "cell_type": "code",
   "execution_count": 2,
   "metadata": {},
   "outputs": [],
   "source": [
    "#1.3節で作成したクラスをインポート\n",
    "from utils.dataloader_image_classification import ImageTransform,make_datapath_list,HymenopteraDataset"
   ]
  },
  {
   "cell_type": "code",
   "execution_count": 3,
   "metadata": {},
   "outputs": [],
   "source": [
    "#1.3節で作成したクラスをインポート\n",
    "#import sys\n",
    "#sys.path.append(\"../1_image_classification/\")\n",
    "#from utils.dataloader_image_classification import ImageTransform, make_datapath_list, HymenopteraDataset"
   ]
  },
  {
   "cell_type": "code",
   "execution_count": 3,
   "metadata": {},
   "outputs": [
    {
     "name": "stdout",
     "output_type": "stream",
     "text": [
      "../1_image_classification/data/hymenoptera_data/train/**/*.jpg\n",
      "../1_image_classification/data/hymenoptera_data/val/**/*.jpg\n"
     ]
    }
   ],
   "source": [
    "#アリとハチの画像へのファイルパスのリストを作成する\n",
    "train_list=make_datapath_list(phase=\"train\")\n",
    "val_list=make_datapath_list(phase=\"val\")"
   ]
  },
  {
   "cell_type": "code",
   "execution_count": 4,
   "metadata": {},
   "outputs": [],
   "source": [
    "#Datasetを作成する\n",
    "size=224\n",
    "mean=(0.485,0.456,0.406)\n",
    "std=(0.229,0.224,0.225)\n",
    "train_dataset=HymenopteraDataset(\n",
    "    file_list=train_list,transform=ImageTransform(size,mean,std),phase=\"train\")\n",
    "val_dataset=HymenopteraDataset(\n",
    "    file_list=val_list,transform=ImageTransform(size,mean,std),phase=\"val\")"
   ]
  },
  {
   "cell_type": "code",
   "execution_count": 5,
   "metadata": {},
   "outputs": [],
   "source": [
    "#DataLoaderを作成する\n",
    "batch_size=32\n",
    "\n",
    "train_dataloader=torch.utils.data.DataLoader(\n",
    "    train_dataset,batch_size=batch_size,shuffle=True)\n",
    "val_dataloader=torch.utils.data.DataLoader(\n",
    "    val_dataset,batch_size=batch_size,shuffle=False)\n",
    "\n",
    "#辞書型オブジェクトにまとめる\n",
    "dataloaders_dict={\"train\":train_dataloader,\"val\":val_dataloader}"
   ]
  },
  {
   "cell_type": "markdown",
   "metadata": {},
   "source": [
    "## ネットワークモデルを作成"
   ]
  },
  {
   "cell_type": "code",
   "execution_count": 6,
   "metadata": {},
   "outputs": [
    {
     "name": "stdout",
     "output_type": "stream",
     "text": [
      "ネットワーク設定完了：学習済みの重みをロードし、訓練モードに設定しました\n"
     ]
    }
   ],
   "source": [
    "#学習済みVGG-16モデルをロード\n",
    "use_pretrained=True #学習済みのパラメータを使用\n",
    "net=models.vgg16(pretrained=use_pretrained)\n",
    "\n",
    "#VGG16の最後の出力層の出力ユニットをアリとハチに付け替える\n",
    "net.classifier[6]=nn.Linear(in_features=4096, out_features=2)\n",
    "\n",
    "#訓練モードに設定\n",
    "net.train()\n",
    "\n",
    "print(\"ネットワーク設定完了：学習済みの重みをロードし、訓練モードに設定しました\")\n",
    "\n"
   ]
  },
  {
   "cell_type": "markdown",
   "metadata": {},
   "source": [
    "## 損失関数を定義"
   ]
  },
  {
   "cell_type": "code",
   "execution_count": 7,
   "metadata": {},
   "outputs": [],
   "source": [
    "criterion=nn.CrossEntropyLoss()"
   ]
  },
  {
   "cell_type": "markdown",
   "metadata": {},
   "source": [
    "## 最適化手法を設定"
   ]
  },
  {
   "cell_type": "code",
   "execution_count": 13,
   "metadata": {},
   "outputs": [
    {
     "name": "stdout",
     "output_type": "stream",
     "text": [
      "params_to_update1に格納: features.0.weight\n",
      "params_to_update1に格納: features.0.bias\n",
      "params_to_update1に格納: features.2.weight\n",
      "params_to_update1に格納: features.2.bias\n",
      "params_to_update1に格納: features.5.weight\n",
      "params_to_update1に格納: features.5.bias\n",
      "params_to_update1に格納: features.7.weight\n",
      "params_to_update1に格納: features.7.bias\n",
      "params_to_update1に格納: features.10.weight\n",
      "params_to_update1に格納: features.10.bias\n",
      "params_to_update1に格納: features.12.weight\n",
      "params_to_update1に格納: features.12.bias\n",
      "params_to_update1に格納: features.14.weight\n",
      "params_to_update1に格納: features.14.bias\n",
      "params_to_update1に格納: features.17.weight\n",
      "params_to_update1に格納: features.17.bias\n",
      "params_to_update1に格納: features.19.weight\n",
      "params_to_update1に格納: features.19.bias\n",
      "params_to_update1に格納: features.21.weight\n",
      "params_to_update1に格納: features.21.bias\n",
      "params_to_update1に格納: features.24.weight\n",
      "params_to_update1に格納: features.24.bias\n",
      "params_to_update1に格納: features.26.weight\n",
      "params_to_update1に格納: features.26.bias\n",
      "params_to_update1に格納: features.28.weight\n",
      "params_to_update1に格納: features.28.bias\n",
      "params_to_update2に格納: classifier.0.weight\n",
      "params_to_update2に格納: classifier.0.bias\n",
      "params_to_update2に格納: classifier.3.weight\n",
      "params_to_update2に格納: classifier.3.bias\n",
      "params_to_update3に格納: classifier.6.weight\n",
      "params_to_update3に格納: classifier.6.bias\n"
     ]
    }
   ],
   "source": [
    "#ファインチューニングで学習させるパラメータを、変数params_to_updateの1-3に格納する\n",
    "params_to_update1=[]\n",
    "params_to_update2=[]\n",
    "params_to_update3=[]\n",
    "\n",
    "#学習させる層のパラメータ名を指定\n",
    "update_param_names_1=[\"features\"]\n",
    "update_param_names_2=[\"classifier.0.weight\",\"classifier.0.bias\", \n",
    "                 \"classifier.3.weight\", \"classifier.3.bias\"]\n",
    "update_param_names_3=[\"classifier.6.weight\",\"classifier.6.bias\"]\n",
    "\n",
    "#パラメータごとに各リストに格納させる\n",
    "for name,param in net.named_parameters():\n",
    "    if update_param_names_1[0] in name:\n",
    "        param.requires_grad=True\n",
    "        params_to_update1.append(param)\n",
    "        print(\"params_to_update1に格納:\",name)\n",
    "    elif name in update_param_names_2:\n",
    "        param.requires_grad=True\n",
    "        params_to_update2.append(param)\n",
    "        print(\"params_to_update2に格納:\",name)\n",
    "    elif name in update_param_names_3:\n",
    "        param.requires_grad=True\n",
    "        params_to_update3.append(param)\n",
    "        print(\"params_to_update3に格納:\",name)\n",
    "    else:\n",
    "        param.requires_grad=False\n",
    "        print(\"勾配計算なし。学習しない：\",name)\n",
    "        \n"
   ]
  },
  {
   "cell_type": "code",
   "execution_count": 14,
   "metadata": {},
   "outputs": [],
   "source": [
    "#最適化手法の設定\n",
    "optimizer=optim.SGD([\n",
    "    {\"params\":params_to_update1,\"lr\":1e-4},\n",
    "    {\"params\":params_to_update2,\"lr\":5e-4},\n",
    "    {\"params\":params_to_update3,\"lr\":1e-3}],momentum=0.9)"
   ]
  },
  {
   "cell_type": "markdown",
   "metadata": {},
   "source": [
    "## 学習・検証を実施"
   ]
  },
  {
   "cell_type": "code",
   "execution_count": 15,
   "metadata": {},
   "outputs": [],
   "source": [
    "#モデルを学習させる関数を作成\n",
    "def train_model(net,dataloaders_dict,criterion,optimizer,num_epochs):\n",
    "     #初期設定\n",
    "     #GPUが使えるか確認\n",
    "     device=torch.device(\"cuda:0\" if torch.cuda.is_available() else \"cpu\")\n",
    "     print(\"使用デバイス：\",device)\n",
    "\n",
    "     #ネットワークをGPUへ\n",
    "     net.to(device)\n",
    "\n",
    "     #ネットワークがある程度固定であれば、高速化させる\n",
    "     torch.backends.cudnn.benchmark=True\n",
    "\n",
    "    ####################\n",
    "\n",
    "     #epochのループ\n",
    "     for epoch in range(num_epochs):\n",
    "        print(\"Epoch {}/{}\".format(epoch+1, num_epochs))\n",
    "        print(\"------------------\")\n",
    "\n",
    "        #eopchごとの訓練と検証のループ\n",
    "        for phase in [\"train\",\"val\"]:\n",
    "            if phase==\"train\":\n",
    "                net.train() #モデルを訓練モードに\n",
    "            else:\n",
    "                net.eval() #モデルを検証モードに\n",
    "\n",
    "            epoch_loss=0.0 #epochの損失和\n",
    "            epoch_corrects=0 #epochの正解数\n",
    "\n",
    "            #未学習時の検証性能を確かめるため、epoch=0の訓練は省略\n",
    "            if (epoch==0) and (phase==\"train\"):\n",
    "                continue\n",
    "\n",
    "            #データローダーからミニバッチを取り出すループ\n",
    "            for inputs,labels in tqdm(dataloaders_dict[phase]):\n",
    "\n",
    "                #GPUが使えるならGPUにデータを送る\n",
    "                inputs=inputs.to(device)\n",
    "                labels=labels.to(device)\n",
    "\n",
    "                #optimizerの初期化\n",
    "                optimizer.zero_grad()\n",
    "\n",
    "                #順伝搬(forward計算)\n",
    "                with torch.set_grad_enabled(phase==\"train\"):\n",
    "                    outputs=net(inputs)\n",
    "                    loss=criterion(outputs, labels) #損失を計算\n",
    "                    _,preds=torch.max(outputs,1) #ラベル\n",
    "\n",
    "                #訓練時はバックプロパゲーション\n",
    "                if phase == \"train\":\n",
    "                    loss.backward()\n",
    "                    optimizer.step()\n",
    "\n",
    "                #結果の計算\n",
    "                epoch_loss+=loss.item()*inputs.size(0) #lossの合計を更新\n",
    "                #正解数の合計を更新\n",
    "                epoch_corrects+=torch.sum(preds==labels.data)\n",
    "\n",
    "            #epochごとのlossと正解率を表示\n",
    "            epoch_loss=epoch_loss/len(dataloaders_dict[phase].dataset)\n",
    "            epoch_acc=epoch_corrects.double()/len(dataloaders_dict[phase].dataset)\n",
    "\n",
    "            print(\"{} Loss: {:.4f} Acc: {:.4f}\".format(phase, epoch_loss, epoch_acc))\n",
    "\n"
   ]
  },
  {
   "cell_type": "code",
   "execution_count": null,
   "metadata": {},
   "outputs": [],
   "source": [
    "#学習・検証を実行する\n",
    "num_epochs=2\n",
    "train_model(net,dataloaders_dict,criterion,optimizer,num_epochs=num_epochs)"
   ]
  },
  {
   "cell_type": "markdown",
   "metadata": {},
   "source": [
    "## 以下落書き"
   ]
  },
  {
   "cell_type": "code",
   "execution_count": 16,
   "metadata": {},
   "outputs": [
    {
     "data": {
      "text/plain": [
       "243"
      ]
     },
     "execution_count": 16,
     "metadata": {},
     "output_type": "execute_result"
    }
   ],
   "source": [
    "len(dataloaders_dict[\"train\"].dataset)"
   ]
  },
  {
   "cell_type": "code",
   "execution_count": null,
   "metadata": {},
   "outputs": [],
   "source": [
    "net.named_parameters"
   ]
  },
  {
   "cell_type": "code",
   "execution_count": null,
   "metadata": {},
   "outputs": [],
   "source": [
    "net.features"
   ]
  }
 ],
 "metadata": {
  "kernelspec": {
   "display_name": "Python 3.7.3 ('pytorchenv')",
   "language": "python",
   "name": "python3"
  },
  "language_info": {
   "codemirror_mode": {
    "name": "ipython",
    "version": 3
   },
   "file_extension": ".py",
   "mimetype": "text/x-python",
   "name": "python",
   "nbconvert_exporter": "python",
   "pygments_lexer": "ipython3",
   "version": "3.7.3"
  },
  "orig_nbformat": 4,
  "vscode": {
   "interpreter": {
    "hash": "8eafc1c3d0ba1f317c23d0e9aa4360a9d8a5b5ceacbb507f9d0793fa2c9bc9e9"
   }
  }
 },
 "nbformat": 4,
 "nbformat_minor": 2
}
